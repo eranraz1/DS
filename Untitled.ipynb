{
 "cells": [
  {
   "cell_type": "code",
   "execution_count": 9,
   "metadata": {
    "tags": [
     "testing"
    ]
   },
   "outputs": [
    {
     "name": "stdout",
     "output_type": "stream",
     "text": [
      "25\n"
     ]
    }
   ],
   "source": [
    "\n",
    "def recu_sum(numList):\n",
    "    if len(numList) ==1:\n",
    "        return numList[0]\n",
    "    return numList[0] + recu_sum(numList[1:])\n",
    "\n",
    "print(recu_sum([1,3,5,7,9]))\n",
    "\n"
   ]
  },
  {
   "cell_type": "code",
   "execution_count": 11,
   "metadata": {
    "tags": [
     "recurr_01"
    ]
   },
   "outputs": [
    {
     "name": "stdout",
     "output_type": "stream",
     "text": [
      "22\n"
     ]
    }
   ],
   "source": [
    "def b_(num):\n",
    "    if num == 1:\n",
    "        return -5\n",
    "    return  b_(num-1) + 9\n",
    "\n",
    "print(b_(4))"
   ]
  },
  {
   "cell_type": "code",
   "execution_count": 17,
   "metadata": {},
   "outputs": [
    {
     "name": "stdout",
     "output_type": "stream",
     "text": [
      "24\n"
     ]
    }
   ],
   "source": [
    "def factorial(x):\n",
    "    if x ==1:\n",
    "        return 1\n",
    "    return factorial(x-1)*x\n",
    "print (factorial(4))\n"
   ]
  },
  {
   "cell_type": "code",
   "execution_count": 27,
   "metadata": {},
   "outputs": [
    {
     "name": "stdout",
     "output_type": "stream",
     "text": [
      "9.3\n"
     ]
    }
   ],
   "source": [
    "def seq(n):\n",
    "    if n==1:\n",
    "        return 9.6\n",
    "    return seq(n-1)-0.1\n",
    "print(seq(4))"
   ]
  },
  {
   "cell_type": "code",
   "execution_count": null,
   "metadata": {},
   "outputs": [],
   "source": [
    "def listsum(numList):\n",
    "   if len(numList) == 1:\n",
    "        return numList[0]\n",
    "   else:\n",
    "       return numList[0] + listsum(numList[1:])\n",
    "\n",
    "print(listsum([1,3,5,7,9]))"
   ]
  }
 ],
 "metadata": {
  "celltoolbar": "Tags",
  "kernelspec": {
   "display_name": "Python 3",
   "language": "python",
   "name": "python3"
  },
  "language_info": {
   "codemirror_mode": {
    "name": "ipython",
    "version": 3
   },
   "file_extension": ".py",
   "mimetype": "text/x-python",
   "name": "python",
   "nbconvert_exporter": "python",
   "pygments_lexer": "ipython3",
   "version": "3.8.5"
  }
 },
 "nbformat": 4,
 "nbformat_minor": 4
}
