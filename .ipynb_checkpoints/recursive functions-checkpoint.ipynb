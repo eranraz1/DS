{
 "cells": [
  {
   "cell_type": "code",
   "execution_count": 9,
   "metadata": {
    "tags": [
     "testing"
    ]
   },
   "outputs": [
    {
     "name": "stdout",
     "output_type": "stream",
     "text": [
      "25\n"
     ]
    }
   ],
   "source": [
    "\n",
    "def recu_sum(numList):\n",
    "    if len(numList) ==1:\n",
    "        return numList[0]\n",
    "    return numList[0] + recu_sum(numList[1:])\n",
    "\n",
    "print(recu_sum([1,3,5,7,9]))\n",
    "\n"
   ]
  },
  {
   "cell_type": "code",
   "execution_count": 11,
   "metadata": {
    "tags": [
     "recurr_01"
    ]
   },
   "outputs": [
    {
     "name": "stdout",
     "output_type": "stream",
     "text": [
      "22\n"
     ]
    }
   ],
   "source": [
    "def b_(num):\n",
    "    if num == 1:\n",
    "        return -5\n",
    "    return  b_(num-1) + 9\n",
    "\n",
    "print(b_(4))"
   ]
  },
  {
   "cell_type": "code",
   "execution_count": 17,
   "metadata": {},
   "outputs": [
    {
     "name": "stdout",
     "output_type": "stream",
     "text": [
      "24\n"
     ]
    }
   ],
   "source": [
    "def factorial(x):\n",
    "    if x ==1:\n",
    "        return 1\n",
    "    return factorial(x-1)*x\n",
    "print (factorial(4))\n"
   ]
  },
  {
   "cell_type": "code",
   "execution_count": 27,
   "metadata": {},
   "outputs": [
    {
     "name": "stdout",
     "output_type": "stream",
     "text": [
      "9.3\n"
     ]
    }
   ],
   "source": [
    "def seq(n):\n",
    "    if n==1:\n",
    "        return 9.6\n",
    "    return seq(n-1)-0.1\n",
    "print(seq(4))"
   ]
  },
  {
   "cell_type": "code",
   "execution_count": 55,
   "metadata": {},
   "outputs": [],
   "source": [
    "def recu_sum(lista):\n",
    "    if len(lista) ==1:\n",
    "        return lista[0]\n",
    "    return lista[0] + recu_sum(lista[1:])"
   ]
  },
  {
   "cell_type": "code",
   "execution_count": 56,
   "metadata": {},
   "outputs": [
    {
     "name": "stdout",
     "output_type": "stream",
     "text": [
      "25\n"
     ]
    }
   ],
   "source": [
    "print(recu_sum([1,3,5,7,9]))"
   ]
  },
  {
   "cell_type": "code",
   "execution_count": 70,
   "metadata": {},
   "outputs": [],
   "source": [
    "def lookval(ls, look_val):\n",
    "    nmax= len(ls)\n",
    "    nmin = 0\n",
    "    if len(ls) ==1:\n",
    "        if ls[0] == look_val:\n",
    "            return True\n",
    "        return False\n",
    "    else:\n",
    "        nmid= len(ls)//2\n",
    "    if look_val == ls[nmid]:\n",
    "        return True\n",
    "    elif look_val<ls[nmid]:\n",
    "        nmax = nmid\n",
    "        return lookval(ls[nmin:nmax],look_val)\n",
    "    else:\n",
    "        nmin = nmid\n",
    "        return lookval(ls[nmin:nmax],look_val)\n"
   ]
  },
  {
   "cell_type": "code",
   "execution_count": 74,
   "metadata": {},
   "outputs": [
    {
     "name": "stdout",
     "output_type": "stream",
     "text": [
      "True\n"
     ]
    }
   ],
   "source": [
    "flist = [1,2,3,4,5,6,8,9,10,11,14,16]\n",
    "print(lookval(flist,10))"
   ]
  },
  {
   "cell_type": "code",
   "execution_count": null,
   "metadata": {},
   "outputs": [],
   "source": []
  }
 ],
 "metadata": {
  "celltoolbar": "Tags",
  "kernelspec": {
   "display_name": "Python 3",
   "language": "python",
   "name": "python3"
  },
  "language_info": {
   "codemirror_mode": {
    "name": "ipython",
    "version": 3
   },
   "file_extension": ".py",
   "mimetype": "text/x-python",
   "name": "python",
   "nbconvert_exporter": "python",
   "pygments_lexer": "ipython3",
   "version": "3.8.5"
  }
 },
 "nbformat": 4,
 "nbformat_minor": 4
}
