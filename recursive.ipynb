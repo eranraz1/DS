

def recu_sum(numList):
    if len(numList) ==1:
        return numList[0]
    return numList[0] + recu_sum(numList[2:])

print(recu_sum([1,3,5,7,9]))


print(sum([1,3,5,7,9]))